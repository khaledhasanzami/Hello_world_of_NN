{
 "cells": [
  {
   "cell_type": "markdown",
   "metadata": {},
   "source": [
    "**Author: Md Khaled Hasan**\n",
    "\n",
    "**Topic: Handwritten Digit Recognizer**\n",
    "\n",
    "**Email: khaled.kuece15@gmail.com**"
   ]
  },
  {
   "cell_type": "markdown",
   "metadata": {},
   "source": [
    "\n",
    "# Hello World of Deep Learning (Hand Written Digit Recognition using MNIST dataset)\n",
    "We are going to use MNIST dataset for classifying handwritten digits. MNIST dataset is considered the 'Hello World' of deep learning. We have grayscale images of handwritten digits which are of 28×28 pixels. We have to classify them into 10 categories belonging from 0 to 9."
   ]
  },
  {
   "cell_type": "code",
   "execution_count": 3,
   "metadata": {},
   "outputs": [],
   "source": [
    "from keras.datasets import mnist"
   ]
  },
  {
   "cell_type": "markdown",
   "metadata": {},
   "source": [
    "In the MNIST dataset, there are training and testing images with labels on them. Training images will be used as an input to the neural network and testing set will be used to measure the accuracy of the model. We are going to load the images to **train_images** and their corrsesponding values to **train_labels**. Here the labels specifies what digit is written on a given image."
   ]
  },
  {
   "cell_type": "code",
   "execution_count": 4,
   "metadata": {},
   "outputs": [],
   "source": [
    "(train_images, train_labels), (test_images, test_labels) = mnist.load_data()"
   ]
  },
  {
   "cell_type": "markdown",
   "metadata": {},
   "source": [
    "Let's see the shape of the imgaes."
   ]
  },
  {
   "cell_type": "code",
   "execution_count": 5,
   "metadata": {},
   "outputs": [
    {
     "data": {
      "text/plain": [
       "(60000, 28, 28)"
      ]
     },
     "execution_count": 5,
     "metadata": {},
     "output_type": "execute_result"
    }
   ],
   "source": [
    "train_images.shape"
   ]
  },
  {
   "cell_type": "markdown",
   "metadata": {},
   "source": [
    "Here we can see that, we have 60000 images and every image is 28×28 pixels, means each images has a height of 28 pixels and width of 28 pixels. As we can see this is a 3D tensor(tensor is another way of saying multidimensional arrays) and the image shape is 2D. But neurons in the neural network recieves 1D values. Let's flatten or reshape the images. Flatten means making the 2D image to 1D vector."
   ]
  },
  {
   "cell_type": "code",
   "execution_count": 6,
   "metadata": {},
   "outputs": [],
   "source": [
    "train_images = train_images.reshape((60000, 28 * 28))"
   ]
  },
  {
   "cell_type": "markdown",
   "metadata": {},
   "source": [
    "If we look at the shape again, we can see this as a tuple of (60000,784). Here the 2D image were converted into 1D vector of 28×28=784 shape."
   ]
  },
  {
   "cell_type": "code",
   "execution_count": 8,
   "metadata": {},
   "outputs": [
    {
     "data": {
      "text/plain": [
       "(60000, 784)"
      ]
     },
     "execution_count": 8,
     "metadata": {},
     "output_type": "execute_result"
    }
   ],
   "source": [
    "train_images.shape"
   ]
  },
  {
   "cell_type": "markdown",
   "metadata": {},
   "source": [
    "Let;s look at test images also."
   ]
  },
  {
   "cell_type": "code",
   "execution_count": 9,
   "metadata": {},
   "outputs": [
    {
     "data": {
      "text/plain": [
       "(10000, 28, 28)"
      ]
     },
     "execution_count": 9,
     "metadata": {},
     "output_type": "execute_result"
    }
   ],
   "source": [
    "test_images.shape"
   ]
  },
  {
   "cell_type": "markdown",
   "metadata": {},
   "source": [
    "We can see test images are also 2D. Let's make it 1D."
   ]
  },
  {
   "cell_type": "code",
   "execution_count": 10,
   "metadata": {},
   "outputs": [
    {
     "data": {
      "text/plain": [
       "(10000, 784)"
      ]
     },
     "execution_count": 10,
     "metadata": {},
     "output_type": "execute_result"
    }
   ],
   "source": [
    "test_images = test_images.reshape((10000, 28 * 28))\n",
    "test_images.shape"
   ]
  },
  {
   "cell_type": "markdown",
   "metadata": {},
   "source": [
    "Let's look at the data type"
   ]
  },
  {
   "cell_type": "code",
   "execution_count": 11,
   "metadata": {},
   "outputs": [
    {
     "data": {
      "text/plain": [
       "array([[0, 0, 0, ..., 0, 0, 0],\n",
       "       [0, 0, 0, ..., 0, 0, 0],\n",
       "       [0, 0, 0, ..., 0, 0, 0],\n",
       "       ...,\n",
       "       [0, 0, 0, ..., 0, 0, 0],\n",
       "       [0, 0, 0, ..., 0, 0, 0],\n",
       "       [0, 0, 0, ..., 0, 0, 0]], dtype=uint8)"
      ]
     },
     "execution_count": 11,
     "metadata": {},
     "output_type": "execute_result"
    }
   ],
   "source": [
    "train_images"
   ]
  },
  {
   "cell_type": "markdown",
   "metadata": {},
   "source": [
    "We can see datatype is uint8 (unsigned integer(0-255) 2⁸) which is discrete. The whole math for neural network is continuous not discrete. This is best approximated by floating point numbers. For compatibility, let's convert the the images to float32 and scale them between 0 and 1. Scaling increases accuracy."
   ]
  },
  {
   "cell_type": "code",
   "execution_count": 12,
   "metadata": {},
   "outputs": [],
   "source": [
    "train_images = train_images.astype('float32') / 255\n",
    "test_images = test_images.astype('float32') / 255"
   ]
  },
  {
   "cell_type": "markdown",
   "metadata": {},
   "source": [
    "Let's convert the labels in categorical."
   ]
  },
  {
   "cell_type": "code",
   "execution_count": 13,
   "metadata": {},
   "outputs": [],
   "source": [
    "from keras.utils import to_categorical\n",
    "train_labels = to_categorical(train_labels)\n",
    "test_labels = to_categorical(test_labels)"
   ]
  },
  {
   "cell_type": "markdown",
   "metadata": {},
   "source": [
    "Let's creat a neural network with two layer only."
   ]
  },
  {
   "cell_type": "code",
   "execution_count": 14,
   "metadata": {},
   "outputs": [],
   "source": [
    "from keras import models\n",
    "from keras import layers"
   ]
  },
  {
   "cell_type": "code",
   "execution_count": 15,
   "metadata": {},
   "outputs": [],
   "source": [
    "network = models.Sequential()\n",
    "network.add(layers.Dense(512, activation='relu', input_shape=(28 * 28,)))\n",
    "network.add(layers.Dense(10, activation='softmax'))"
   ]
  },
  {
   "attachments": {
    "1_oePAhrm74RNnNEolprmTaQ.png": {
     "image/png": "[encoded data removed]"
    }
   },
   "cell_type": "markdown",
   "metadata": {},
   "source": [
    "Here, **Sequential** means we are having a linear stack of layers. \n",
    "\n",
    "**Dense** means we are having densly connected neurons which means we are connecting every input to every other nueron or with more than one layer case, every neuron to other neuron. \n",
    "\n",
    "We are defining 1D vector of the images (784,). It will tell the model what to expect as an input. \n",
    "For clarification,\n",
    "  - 0D tensors shape = ()\n",
    "  - 1D tensors shape = (m,)\n",
    "  - 2D tensors shape = (m,n)\n",
    "  - 3D tensors shape = (x,m,n)\n",
    "\n",
    "From first layer, we are having 512 output and we used relu as an activation function. Relu(z) = max(0,x) is just a function which returns zero for any negative input and the value itself if given any positive value. ReLU is the most popular activation function used in hidden layers.\n",
    "![1_oePAhrm74RNnNEolprmTaQ.png](attachment:1_oePAhrm74RNnNEolprmTaQ.png)\n",
    "\n",
    "On the second layer, we are having 10 way layer means it will return 10 probability scores or 10 outputs. We used [softmax function](https://deepai.org/machine-learning-glossary-and-terms/softmax-layer#:~:text=The%20softmax%20function%20is%20a,can%20be%20interpreted%20as%20probabilities.) as activation function.\n",
    "\n",
    "**Why activation function?**\n",
    "\n",
    "In any neuron, we perform a two step process. First, we train the model with linear weights and second build a linear fit. But all the probelms in the world can not be solved with linear fit. For complex problems we need non-linear functions to fit the model. Activation functions receives output from step 1 and fit the model with non-linear functions like relu, sfotmax, leakyrelu,sigmoid, tanh functions etc.\n"
   ]
  },
  {
   "cell_type": "markdown",
   "metadata": {},
   "source": [
    "We always need to compile a model after bulding it."
   ]
  },
  {
   "cell_type": "code",
   "execution_count": 16,
   "metadata": {},
   "outputs": [],
   "source": [
    "network.compile(optimizer='rmsprop',\n",
    "loss='categorical_crossentropy',\n",
    "metrics=['accuracy'])"
   ]
  },
  {
   "cell_type": "markdown",
   "metadata": {},
   "source": [
    "Here,\n",
    " - **loss function** will be able to measure its performance on the training data and veer itself in the right way. [All the Loss functions](https://keras.io/api/losses/)\n",
    " - **optimizer** way to update the netowrk based on loss. Heart of the neural network.[All the optimizers](https://keras.io/api/optimizers/)\n",
    " - **metrics**, we only cared about accuracy. Fraction of the images that will be correclty classified. [All the metrics](https://keras.io/api/metrics/)"
   ]
  },
  {
   "cell_type": "markdown",
   "metadata": {},
   "source": [
    "Let's train the model."
   ]
  },
  {
   "cell_type": "code",
   "execution_count": 17,
   "metadata": {},
   "outputs": [
    {
     "name": "stdout",
     "output_type": "stream",
     "text": [
      "Epoch 1/5\n",
      "469/469 [==============================] - 4s 9ms/step - loss: 0.2558 - accuracy: 0.9268\n",
      "Epoch 2/5\n",
      "469/469 [==============================] - 5s 10ms/step - loss: 0.1040 - accuracy: 0.9690\n",
      "Epoch 3/5\n",
      "469/469 [==============================] - 5s 10ms/step - loss: 0.0685 - accuracy: 0.9798\n",
      "Epoch 4/5\n",
      "469/469 [==============================] - 5s 10ms/step - loss: 0.0494 - accuracy: 0.9847\n",
      "Epoch 5/5\n",
      "469/469 [==============================] - 4s 9ms/step - loss: 0.0378 - accuracy: 0.9883\n"
     ]
    },
    {
     "data": {
      "text/plain": [
       "<tensorflow.python.keras.callbacks.History at 0x14e70236668>"
      ]
     },
     "execution_count": 17,
     "metadata": {},
     "output_type": "execute_result"
    }
   ],
   "source": [
    "network.fit(train_images, train_labels, epochs=5, batch_size=128)"
   ]
  },
  {
   "cell_type": "markdown",
   "metadata": {},
   "source": [
    "Here, epoch means how many times we want the itirations. DL models do not process entire dataset hence breaks them into small batches and operate."
   ]
  },
  {
   "cell_type": "markdown",
   "metadata": {},
   "source": [
    "Let's see how much accuracy we obtanied."
   ]
  },
  {
   "cell_type": "code",
   "execution_count": 18,
   "metadata": {},
   "outputs": [
    {
     "name": "stdout",
     "output_type": "stream",
     "text": [
      "313/313 [==============================] - 1s 3ms/step - loss: 0.0701 - accuracy: 0.9793\n",
      "test_acc: 0.9793000221252441\n"
     ]
    }
   ],
   "source": [
    " test_loss, test_acc = network.evaluate(test_images, test_labels)\n",
    "print('test_acc:', test_acc)"
   ]
  },
  {
   "cell_type": "markdown",
   "metadata": {},
   "source": [
    "An accuracy of around 98%. Ways to further improve the accuracy.\n",
    " - Try different optimizers to reach the global minima loss with different step size\n",
    " - Try different loss functions like MAE(Mean Absolute Error), MSA(Mean Squared Error) etc.\n",
    " - Try different activation functions\n",
    " - Try different epochs and batch size\n",
    " - Try functional API instead of Sequntial Class\n",
    " - Try different Datasets"
   ]
  }
 ],
 "metadata": {
  "kernelspec": {
   "display_name": "Python 3",
   "language": "python",
   "name": "python3"
  },
  "language_info": {
   "codemirror_mode": {
    "name": "ipython",
    "version": 3
   },
   "file_extension": ".py",
   "mimetype": "text/x-python",
   "name": "python",
   "nbconvert_exporter": "python",
   "pygments_lexer": "ipython3",
   "version": "3.7.3"
  }
 },
 "nbformat": 4,
 "nbformat_minor": 2
}
